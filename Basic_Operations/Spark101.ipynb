{
 "cells": [
  {
   "cell_type": "code",
   "execution_count": 1,
   "metadata": {},
   "outputs": [],
   "source": [
    "from pyspark.sql import SparkSession\n",
    "from pyspark.sql.types import StructType, StructField, IntegerType, StringType, BooleanType\n",
    "import time as t\n",
    "from pyspark.sql.functions import *"
   ]
  },
  {
   "cell_type": "code",
   "execution_count": 2,
   "metadata": {},
   "outputs": [],
   "source": [
    "spark = SparkSession.builder.appName('Basics').getOrCreate()"
   ]
  },
  {
   "cell_type": "code",
   "execution_count": 3,
   "metadata": {},
   "outputs": [
    {
     "data": {
      "text/html": [
       "\n",
       "            <div>\n",
       "                <p><b>SparkSession - in-memory</b></p>\n",
       "                \n",
       "        <div>\n",
       "            <p><b>SparkContext</b></p>\n",
       "\n",
       "            <p><a href=\"http://192.168.0.181:4041\">Spark UI</a></p>\n",
       "\n",
       "            <dl>\n",
       "              <dt>Version</dt>\n",
       "                <dd><code>v2.4.4</code></dd>\n",
       "              <dt>Master</dt>\n",
       "                <dd><code>local[*]</code></dd>\n",
       "              <dt>AppName</dt>\n",
       "                <dd><code>Basics</code></dd>\n",
       "            </dl>\n",
       "        </div>\n",
       "        \n",
       "            </div>\n",
       "        "
      ],
      "text/plain": [
       "<pyspark.sql.session.SparkSession at 0x1196f1390>"
      ]
     },
     "execution_count": 3,
     "metadata": {},
     "output_type": "execute_result"
    }
   ],
   "source": [
    "spark"
   ]
  },
  {
   "cell_type": "markdown",
   "metadata": {},
   "source": [
    "## Reading Data with and without defining Scheme"
   ]
  },
  {
   "cell_type": "markdown",
   "metadata": {},
   "source": [
    "### Exec time without defining Scheme"
   ]
  },
  {
   "cell_type": "code",
   "execution_count": 4,
   "metadata": {},
   "outputs": [
    {
     "name": "stdout",
     "output_type": "stream",
     "text": [
      "Exec time is: 10.102001905441284\n"
     ]
    }
   ],
   "source": [
    "t0 = t.time()\n",
    "firedep = spark.read.csv('/Users/furqan/Python/Spark_Temp/Fire_Department_Calls_for_Service.csv', \n",
    "                         header=True, inferSchema=True)\n",
    "t1=t.time()\n",
    "print('Exec time is:', t1-t0)"
   ]
  },
  {
   "cell_type": "markdown",
   "metadata": {},
   "source": [
    "## Get Column Names"
   ]
  },
  {
   "cell_type": "code",
   "execution_count": 5,
   "metadata": {},
   "outputs": [
    {
     "data": {
      "text/plain": [
       "['Call Number',\n",
       " 'Unit ID',\n",
       " 'Incident Number',\n",
       " 'Call Type',\n",
       " 'Call Date',\n",
       " 'Watch Date',\n",
       " 'Received DtTm',\n",
       " 'Entry DtTm',\n",
       " 'Dispatch DtTm',\n",
       " 'Response DtTm',\n",
       " 'On Scene DtTm',\n",
       " 'Transport DtTm',\n",
       " 'Hospital DtTm',\n",
       " 'Call Final Disposition',\n",
       " 'Available DtTm',\n",
       " 'Address',\n",
       " 'City',\n",
       " 'Zipcode of Incident',\n",
       " 'Battalion',\n",
       " 'Station Area',\n",
       " 'Box',\n",
       " 'Original Priority',\n",
       " 'Priority',\n",
       " 'Final Priority',\n",
       " 'ALS Unit',\n",
       " 'Call Type Group',\n",
       " 'Number of Alarms',\n",
       " 'Unit Type',\n",
       " 'Unit sequence in call dispatch',\n",
       " 'Fire Prevention District',\n",
       " 'Supervisor District',\n",
       " 'Neighborhooods - Analysis Boundaries',\n",
       " 'Location',\n",
       " 'RowID']"
      ]
     },
     "execution_count": 5,
     "metadata": {},
     "output_type": "execute_result"
    }
   ],
   "source": [
    "firedep.columns"
   ]
  },
  {
   "cell_type": "code",
   "execution_count": 6,
   "metadata": {},
   "outputs": [],
   "source": [
    "fireSchema = StructType([\n",
    "    StructField('CallNumber', IntegerType(), True),\n",
    "    StructField('UnitID', StringType(), True),\n",
    "    StructField('IncidentNumber', IntegerType(), True),\n",
    "    StructField('CallType', StringType(), True),\n",
    "    StructField('CallDate', StringType(), True),\n",
    "    StructField('WatchDate', StringType(), True),\n",
    "    StructField('ReceivedDtTm', StringType(), True),\n",
    "    StructField('EntryDtTm', StringType(), True),\n",
    "    StructField('DispatchDtTm', StringType(), True),\n",
    "    StructField('ResponseDtTm', StringType(), True),\n",
    "    StructField('OnSceneDtTm', StringType(), True),\n",
    "    StructField('TransportDtTm', StringType(), True),\n",
    "    StructField('HospitalDtTm', StringType(), True),\n",
    "    StructField('CallFinalDisposition', StringType(), True),\n",
    "    StructField('AvailableDtTm', StringType(), True),\n",
    "    StructField('Address', StringType(), True),\n",
    "    StructField('City', StringType(), True),\n",
    "    StructField('ZipcodeOfIncident',IntegerType(), True),\n",
    "    StructField('Battalion',StringType(), True),\n",
    "    StructField('StationArea',StringType(), True),\n",
    "    StructField('Box',StringType(), True),\n",
    "    StructField('OriginalPriority',StringType(), True),\n",
    "    StructField('Priority', StringType(), True),\n",
    "    StructField('FinalPriority', IntegerType(), True),\n",
    "    StructField('ALSUnit', BooleanType(), True),\n",
    "    StructField('CallTypeGroup', StringType(), True),\n",
    "    StructField('NumberOfAlarms', IntegerType(), True),\n",
    "    StructField('UnitType', StringType(), True),\n",
    "    StructField('UnitSequenceInCallDispatch', IntegerType(), True),\n",
    "    StructField('FirePreventionDistrict', StringType(), True),\n",
    "    StructField('SupervisorDistrict', StringType(), True),\n",
    "    StructField('NeighborhooodsDistrict', StringType(), True),\n",
    "    StructField('Location', StringType(), True),\n",
    "    StructField('RowID', StringType(), True)\n",
    "])"
   ]
  },
  {
   "cell_type": "markdown",
   "metadata": {},
   "source": [
    "### Exec time after defining Schema"
   ]
  },
  {
   "cell_type": "code",
   "execution_count": 7,
   "metadata": {},
   "outputs": [
    {
     "name": "stdout",
     "output_type": "stream",
     "text": [
      "Exec time is: 0.07374310493469238\n"
     ]
    }
   ],
   "source": [
    "t0 = t.time()\n",
    "firedep = spark.read.csv('/Users/furqan/Python/Spark_Temp/Fire_Department_Calls_for_Service.csv', \n",
    "                         header=True, schema=fireSchema)\n",
    "t1=t.time()\n",
    "print('Exec time is:', t1-t0)"
   ]
  },
  {
   "cell_type": "code",
   "execution_count": 8,
   "metadata": {},
   "outputs": [
    {
     "name": "stdout",
     "output_type": "stream",
     "text": [
      "+----------+------+\n",
      "|CallNumber|UnitID|\n",
      "+----------+------+\n",
      "|192910017 |E11   |\n",
      "+----------+------+\n",
      "only showing top 1 row\n",
      "\n"
     ]
    }
   ],
   "source": [
    "'''\n",
    "http://spark.apache.org/docs/latest/api/python/pyspark.sql.html?highlight=show#pyspark.sql.DataFrame.show\n",
    "truncate – If set to True, truncate strings longer than 20 chars by default. If set to a number greater than one, \n",
    "truncates long strings to length truncate and align cells right.\n",
    "'''\n",
    "firedep.select(['CallNumber', 'UnitID' ]).show(1, truncate=False)"
   ]
  },
  {
   "cell_type": "markdown",
   "metadata": {},
   "source": [
    "## Convert Spark DF to Pandas DF"
   ]
  },
  {
   "cell_type": "code",
   "execution_count": 9,
   "metadata": {},
   "outputs": [
    {
     "data": {
      "text/html": [
       "<div>\n",
       "<style scoped>\n",
       "    .dataframe tbody tr th:only-of-type {\n",
       "        vertical-align: middle;\n",
       "    }\n",
       "\n",
       "    .dataframe tbody tr th {\n",
       "        vertical-align: top;\n",
       "    }\n",
       "\n",
       "    .dataframe thead th {\n",
       "        text-align: right;\n",
       "    }\n",
       "</style>\n",
       "<table border=\"1\" class=\"dataframe\">\n",
       "  <thead>\n",
       "    <tr style=\"text-align: right;\">\n",
       "      <th></th>\n",
       "      <th>CallNumber</th>\n",
       "      <th>UnitID</th>\n",
       "      <th>IncidentNumber</th>\n",
       "      <th>CallType</th>\n",
       "      <th>CallDate</th>\n",
       "      <th>WatchDate</th>\n",
       "      <th>ReceivedDtTm</th>\n",
       "      <th>EntryDtTm</th>\n",
       "      <th>DispatchDtTm</th>\n",
       "      <th>ResponseDtTm</th>\n",
       "      <th>...</th>\n",
       "      <th>ALSUnit</th>\n",
       "      <th>CallTypeGroup</th>\n",
       "      <th>NumberOfAlarms</th>\n",
       "      <th>UnitType</th>\n",
       "      <th>UnitSequenceInCallDispatch</th>\n",
       "      <th>FirePreventionDistrict</th>\n",
       "      <th>SupervisorDistrict</th>\n",
       "      <th>NeighborhooodsDistrict</th>\n",
       "      <th>Location</th>\n",
       "      <th>RowID</th>\n",
       "    </tr>\n",
       "  </thead>\n",
       "  <tbody>\n",
       "    <tr>\n",
       "      <th>0</th>\n",
       "      <td>192910017</td>\n",
       "      <td>E11</td>\n",
       "      <td>19125164</td>\n",
       "      <td>Alarms</td>\n",
       "      <td>10/18/2019</td>\n",
       "      <td>10/17/2019</td>\n",
       "      <td>10/18/2019 12:03:52 AM</td>\n",
       "      <td>10/18/2019 12:06:59 AM</td>\n",
       "      <td>10/18/2019 12:07:05 AM</td>\n",
       "      <td>10/18/2019 12:08:28 AM</td>\n",
       "      <td>...</td>\n",
       "      <td>True</td>\n",
       "      <td>Alarm</td>\n",
       "      <td>1</td>\n",
       "      <td>ENGINE</td>\n",
       "      <td>1</td>\n",
       "      <td>6</td>\n",
       "      <td>9</td>\n",
       "      <td>Mission</td>\n",
       "      <td>(37.75210364574824, -122.42066480228367)</td>\n",
       "      <td>192910017-E11</td>\n",
       "    </tr>\n",
       "    <tr>\n",
       "      <th>1</th>\n",
       "      <td>192910018</td>\n",
       "      <td>B10</td>\n",
       "      <td>19125165</td>\n",
       "      <td>Alarms</td>\n",
       "      <td>10/18/2019</td>\n",
       "      <td>10/17/2019</td>\n",
       "      <td>10/18/2019 12:05:56 AM</td>\n",
       "      <td>10/18/2019 12:07:27 AM</td>\n",
       "      <td>10/18/2019 12:09:49 AM</td>\n",
       "      <td>None</td>\n",
       "      <td>...</td>\n",
       "      <td>False</td>\n",
       "      <td>Alarm</td>\n",
       "      <td>1</td>\n",
       "      <td>CHIEF</td>\n",
       "      <td>1</td>\n",
       "      <td>6</td>\n",
       "      <td>9</td>\n",
       "      <td>Mission</td>\n",
       "      <td>(37.75368162954947, -122.4202535645237)</td>\n",
       "      <td>192910018-B10</td>\n",
       "    </tr>\n",
       "    <tr>\n",
       "      <th>2</th>\n",
       "      <td>192910018</td>\n",
       "      <td>T07</td>\n",
       "      <td>19125165</td>\n",
       "      <td>Alarms</td>\n",
       "      <td>10/18/2019</td>\n",
       "      <td>10/17/2019</td>\n",
       "      <td>10/18/2019 12:05:56 AM</td>\n",
       "      <td>10/18/2019 12:07:27 AM</td>\n",
       "      <td>10/18/2019 12:09:49 AM</td>\n",
       "      <td>None</td>\n",
       "      <td>...</td>\n",
       "      <td>False</td>\n",
       "      <td>Alarm</td>\n",
       "      <td>1</td>\n",
       "      <td>TRUCK</td>\n",
       "      <td>3</td>\n",
       "      <td>6</td>\n",
       "      <td>9</td>\n",
       "      <td>Mission</td>\n",
       "      <td>(37.75368162954947, -122.4202535645237)</td>\n",
       "      <td>192910018-T07</td>\n",
       "    </tr>\n",
       "    <tr>\n",
       "      <th>3</th>\n",
       "      <td>192910025</td>\n",
       "      <td>B04</td>\n",
       "      <td>19125166</td>\n",
       "      <td>Alarms</td>\n",
       "      <td>10/18/2019</td>\n",
       "      <td>10/17/2019</td>\n",
       "      <td>10/18/2019 12:09:02 AM</td>\n",
       "      <td>10/18/2019 12:09:02 AM</td>\n",
       "      <td>10/18/2019 12:09:02 AM</td>\n",
       "      <td>10/18/2019 12:09:02 AM</td>\n",
       "      <td>...</td>\n",
       "      <td>False</td>\n",
       "      <td>Alarm</td>\n",
       "      <td>1</td>\n",
       "      <td>CHIEF</td>\n",
       "      <td>1</td>\n",
       "      <td>4</td>\n",
       "      <td>2</td>\n",
       "      <td>Marina</td>\n",
       "      <td>(37.80034056356869, -122.43607739030332)</td>\n",
       "      <td>192910025-B04</td>\n",
       "    </tr>\n",
       "    <tr>\n",
       "      <th>4</th>\n",
       "      <td>192910034</td>\n",
       "      <td>E01</td>\n",
       "      <td>19125167</td>\n",
       "      <td>Structure Fire</td>\n",
       "      <td>10/18/2019</td>\n",
       "      <td>10/17/2019</td>\n",
       "      <td>10/18/2019 12:12:39 AM</td>\n",
       "      <td>10/18/2019 12:12:39 AM</td>\n",
       "      <td>10/18/2019 12:12:48 AM</td>\n",
       "      <td>10/18/2019 12:13:52 AM</td>\n",
       "      <td>...</td>\n",
       "      <td>True</td>\n",
       "      <td>Alarm</td>\n",
       "      <td>1</td>\n",
       "      <td>ENGINE</td>\n",
       "      <td>1</td>\n",
       "      <td>2</td>\n",
       "      <td>6</td>\n",
       "      <td>South of Market</td>\n",
       "      <td>(37.779211684542084, -122.41093657380038)</td>\n",
       "      <td>192910034-E01</td>\n",
       "    </tr>\n",
       "    <tr>\n",
       "      <th>5</th>\n",
       "      <td>192910034</td>\n",
       "      <td>T01</td>\n",
       "      <td>19125167</td>\n",
       "      <td>Structure Fire</td>\n",
       "      <td>10/18/2019</td>\n",
       "      <td>10/17/2019</td>\n",
       "      <td>10/18/2019 12:12:39 AM</td>\n",
       "      <td>10/18/2019 12:12:39 AM</td>\n",
       "      <td>10/18/2019 12:12:48 AM</td>\n",
       "      <td>10/18/2019 12:14:28 AM</td>\n",
       "      <td>...</td>\n",
       "      <td>False</td>\n",
       "      <td>Alarm</td>\n",
       "      <td>1</td>\n",
       "      <td>TRUCK</td>\n",
       "      <td>2</td>\n",
       "      <td>2</td>\n",
       "      <td>6</td>\n",
       "      <td>South of Market</td>\n",
       "      <td>(37.779211684542084, -122.41093657380038)</td>\n",
       "      <td>192910034-T01</td>\n",
       "    </tr>\n",
       "    <tr>\n",
       "      <th>6</th>\n",
       "      <td>192910039</td>\n",
       "      <td>76</td>\n",
       "      <td>19125168</td>\n",
       "      <td>Medical Incident</td>\n",
       "      <td>10/18/2019</td>\n",
       "      <td>10/17/2019</td>\n",
       "      <td>10/18/2019 12:14:32 AM</td>\n",
       "      <td>10/18/2019 12:14:32 AM</td>\n",
       "      <td>10/18/2019 12:15:10 AM</td>\n",
       "      <td>10/18/2019 12:15:25 AM</td>\n",
       "      <td>...</td>\n",
       "      <td>True</td>\n",
       "      <td>Non Life-threatening</td>\n",
       "      <td>1</td>\n",
       "      <td>MEDIC</td>\n",
       "      <td>1</td>\n",
       "      <td>10</td>\n",
       "      <td>10</td>\n",
       "      <td>Bayview Hunters Point</td>\n",
       "      <td>(37.73607882495912, -122.38972310330021)</td>\n",
       "      <td>192910039-76</td>\n",
       "    </tr>\n",
       "    <tr>\n",
       "      <th>7</th>\n",
       "      <td>192910048</td>\n",
       "      <td>T08</td>\n",
       "      <td>19125169</td>\n",
       "      <td>Alarms</td>\n",
       "      <td>10/18/2019</td>\n",
       "      <td>10/17/2019</td>\n",
       "      <td>10/18/2019 12:20:25 AM</td>\n",
       "      <td>10/18/2019 12:21:44 AM</td>\n",
       "      <td>10/18/2019 12:21:51 AM</td>\n",
       "      <td>10/18/2019 12:24:30 AM</td>\n",
       "      <td>...</td>\n",
       "      <td>False</td>\n",
       "      <td>Alarm</td>\n",
       "      <td>1</td>\n",
       "      <td>TRUCK</td>\n",
       "      <td>3</td>\n",
       "      <td>3</td>\n",
       "      <td>6</td>\n",
       "      <td>Mission Bay</td>\n",
       "      <td>(37.77663138541027, -122.3921894505535)</td>\n",
       "      <td>192910048-T08</td>\n",
       "    </tr>\n",
       "    <tr>\n",
       "      <th>8</th>\n",
       "      <td>192910057</td>\n",
       "      <td>78</td>\n",
       "      <td>19125170</td>\n",
       "      <td>Medical Incident</td>\n",
       "      <td>10/18/2019</td>\n",
       "      <td>10/17/2019</td>\n",
       "      <td>10/18/2019 12:23:58 AM</td>\n",
       "      <td>10/18/2019 12:26:34 AM</td>\n",
       "      <td>10/18/2019 12:26:42 AM</td>\n",
       "      <td>10/18/2019 12:27:20 AM</td>\n",
       "      <td>...</td>\n",
       "      <td>True</td>\n",
       "      <td>Potentially Life-Threatening</td>\n",
       "      <td>1</td>\n",
       "      <td>MEDIC</td>\n",
       "      <td>2</td>\n",
       "      <td>9</td>\n",
       "      <td>7</td>\n",
       "      <td>West of Twin Peaks</td>\n",
       "      <td>(37.736080487699894, -122.44882464734825)</td>\n",
       "      <td>192910057-78</td>\n",
       "    </tr>\n",
       "    <tr>\n",
       "      <th>9</th>\n",
       "      <td>192910057</td>\n",
       "      <td>E15</td>\n",
       "      <td>19125170</td>\n",
       "      <td>Medical Incident</td>\n",
       "      <td>10/18/2019</td>\n",
       "      <td>10/17/2019</td>\n",
       "      <td>10/18/2019 12:23:58 AM</td>\n",
       "      <td>10/18/2019 12:26:34 AM</td>\n",
       "      <td>10/18/2019 12:26:42 AM</td>\n",
       "      <td>10/18/2019 12:29:33 AM</td>\n",
       "      <td>...</td>\n",
       "      <td>True</td>\n",
       "      <td>Potentially Life-Threatening</td>\n",
       "      <td>1</td>\n",
       "      <td>ENGINE</td>\n",
       "      <td>1</td>\n",
       "      <td>9</td>\n",
       "      <td>7</td>\n",
       "      <td>West of Twin Peaks</td>\n",
       "      <td>(37.736080487699894, -122.44882464734825)</td>\n",
       "      <td>192910057-E15</td>\n",
       "    </tr>\n",
       "    <tr>\n",
       "      <th>10</th>\n",
       "      <td>192910063</td>\n",
       "      <td>QRV1</td>\n",
       "      <td>19125171</td>\n",
       "      <td>Medical Incident</td>\n",
       "      <td>10/18/2019</td>\n",
       "      <td>10/17/2019</td>\n",
       "      <td>10/18/2019 12:28:07 AM</td>\n",
       "      <td>10/18/2019 12:29:02 AM</td>\n",
       "      <td>10/18/2019 12:29:10 AM</td>\n",
       "      <td>10/18/2019 12:29:17 AM</td>\n",
       "      <td>...</td>\n",
       "      <td>True</td>\n",
       "      <td>Potentially Life-Threatening</td>\n",
       "      <td>1</td>\n",
       "      <td>SUPPORT</td>\n",
       "      <td>1</td>\n",
       "      <td>2</td>\n",
       "      <td>6</td>\n",
       "      <td>Tenderloin</td>\n",
       "      <td>(37.78186544733037, -122.41428534642068)</td>\n",
       "      <td>192910063-QRV1</td>\n",
       "    </tr>\n",
       "    <tr>\n",
       "      <th>11</th>\n",
       "      <td>192910064</td>\n",
       "      <td>72</td>\n",
       "      <td>19125172</td>\n",
       "      <td>Medical Incident</td>\n",
       "      <td>10/18/2019</td>\n",
       "      <td>10/17/2019</td>\n",
       "      <td>10/18/2019 12:28:20 AM</td>\n",
       "      <td>10/18/2019 12:29:35 AM</td>\n",
       "      <td>10/18/2019 12:30:27 AM</td>\n",
       "      <td>10/18/2019 12:30:34 AM</td>\n",
       "      <td>...</td>\n",
       "      <td>True</td>\n",
       "      <td>Potentially Life-Threatening</td>\n",
       "      <td>1</td>\n",
       "      <td>MEDIC</td>\n",
       "      <td>2</td>\n",
       "      <td>8</td>\n",
       "      <td>7</td>\n",
       "      <td>Lakeshore</td>\n",
       "      <td>(37.72305838266758, -122.48355146198237)</td>\n",
       "      <td>192910064-72</td>\n",
       "    </tr>\n",
       "    <tr>\n",
       "      <th>12</th>\n",
       "      <td>192910064</td>\n",
       "      <td>E19</td>\n",
       "      <td>19125172</td>\n",
       "      <td>Medical Incident</td>\n",
       "      <td>10/18/2019</td>\n",
       "      <td>10/17/2019</td>\n",
       "      <td>10/18/2019 12:28:20 AM</td>\n",
       "      <td>10/18/2019 12:29:35 AM</td>\n",
       "      <td>10/18/2019 12:30:27 AM</td>\n",
       "      <td>10/18/2019 12:31:54 AM</td>\n",
       "      <td>...</td>\n",
       "      <td>True</td>\n",
       "      <td>Potentially Life-Threatening</td>\n",
       "      <td>1</td>\n",
       "      <td>ENGINE</td>\n",
       "      <td>1</td>\n",
       "      <td>8</td>\n",
       "      <td>7</td>\n",
       "      <td>Lakeshore</td>\n",
       "      <td>(37.72305838266758, -122.48355146198237)</td>\n",
       "      <td>192910064-E19</td>\n",
       "    </tr>\n",
       "    <tr>\n",
       "      <th>13</th>\n",
       "      <td>192910070</td>\n",
       "      <td>95</td>\n",
       "      <td>19125173</td>\n",
       "      <td>Medical Incident</td>\n",
       "      <td>10/18/2019</td>\n",
       "      <td>10/17/2019</td>\n",
       "      <td>10/18/2019 12:32:25 AM</td>\n",
       "      <td>10/18/2019 12:32:25 AM</td>\n",
       "      <td>10/18/2019 12:32:36 AM</td>\n",
       "      <td>10/18/2019 12:33:03 AM</td>\n",
       "      <td>...</td>\n",
       "      <td>True</td>\n",
       "      <td>Potentially Life-Threatening</td>\n",
       "      <td>1</td>\n",
       "      <td>MEDIC</td>\n",
       "      <td>1</td>\n",
       "      <td>10</td>\n",
       "      <td>9</td>\n",
       "      <td>Portola</td>\n",
       "      <td>(37.72465237940485, -122.40228864968611)</td>\n",
       "      <td>192910070-95</td>\n",
       "    </tr>\n",
       "    <tr>\n",
       "      <th>14</th>\n",
       "      <td>192910070</td>\n",
       "      <td>E44</td>\n",
       "      <td>19125173</td>\n",
       "      <td>Medical Incident</td>\n",
       "      <td>10/18/2019</td>\n",
       "      <td>10/17/2019</td>\n",
       "      <td>10/18/2019 12:32:25 AM</td>\n",
       "      <td>10/18/2019 12:32:25 AM</td>\n",
       "      <td>10/18/2019 12:37:17 AM</td>\n",
       "      <td>10/18/2019 12:40:37 AM</td>\n",
       "      <td>...</td>\n",
       "      <td>True</td>\n",
       "      <td>Potentially Life-Threatening</td>\n",
       "      <td>1</td>\n",
       "      <td>ENGINE</td>\n",
       "      <td>2</td>\n",
       "      <td>10</td>\n",
       "      <td>9</td>\n",
       "      <td>Portola</td>\n",
       "      <td>(37.72465237940485, -122.40228864968611)</td>\n",
       "      <td>192910070-E44</td>\n",
       "    </tr>\n",
       "    <tr>\n",
       "      <th>15</th>\n",
       "      <td>192910125</td>\n",
       "      <td>54</td>\n",
       "      <td>19125174</td>\n",
       "      <td>Medical Incident</td>\n",
       "      <td>10/18/2019</td>\n",
       "      <td>10/17/2019</td>\n",
       "      <td>10/18/2019 01:08:27 AM</td>\n",
       "      <td>10/18/2019 01:10:18 AM</td>\n",
       "      <td>10/18/2019 01:10:52 AM</td>\n",
       "      <td>10/18/2019 01:11:04 AM</td>\n",
       "      <td>...</td>\n",
       "      <td>True</td>\n",
       "      <td>Non Life-threatening</td>\n",
       "      <td>1</td>\n",
       "      <td>MEDIC</td>\n",
       "      <td>1</td>\n",
       "      <td>2</td>\n",
       "      <td>6</td>\n",
       "      <td>South of Market</td>\n",
       "      <td>(37.778036510820826, -122.41542910091165)</td>\n",
       "      <td>192910125-54</td>\n",
       "    </tr>\n",
       "    <tr>\n",
       "      <th>16</th>\n",
       "      <td>192910130</td>\n",
       "      <td>75</td>\n",
       "      <td>19125175</td>\n",
       "      <td>Medical Incident</td>\n",
       "      <td>10/18/2019</td>\n",
       "      <td>10/17/2019</td>\n",
       "      <td>10/18/2019 01:11:51 AM</td>\n",
       "      <td>10/18/2019 01:12:53 AM</td>\n",
       "      <td>10/18/2019 01:13:09 AM</td>\n",
       "      <td>10/18/2019 01:13:15 AM</td>\n",
       "      <td>...</td>\n",
       "      <td>True</td>\n",
       "      <td>Potentially Life-Threatening</td>\n",
       "      <td>1</td>\n",
       "      <td>MEDIC</td>\n",
       "      <td>1</td>\n",
       "      <td>9</td>\n",
       "      <td>7</td>\n",
       "      <td>West of Twin Peaks</td>\n",
       "      <td>(37.73146035984968, -122.44544412061042)</td>\n",
       "      <td>192910130-75</td>\n",
       "    </tr>\n",
       "    <tr>\n",
       "      <th>17</th>\n",
       "      <td>192910130</td>\n",
       "      <td>E26</td>\n",
       "      <td>19125175</td>\n",
       "      <td>Medical Incident</td>\n",
       "      <td>10/18/2019</td>\n",
       "      <td>10/17/2019</td>\n",
       "      <td>10/18/2019 01:11:51 AM</td>\n",
       "      <td>10/18/2019 01:12:53 AM</td>\n",
       "      <td>10/18/2019 01:13:09 AM</td>\n",
       "      <td>10/18/2019 01:15:07 AM</td>\n",
       "      <td>...</td>\n",
       "      <td>True</td>\n",
       "      <td>Potentially Life-Threatening</td>\n",
       "      <td>1</td>\n",
       "      <td>ENGINE</td>\n",
       "      <td>2</td>\n",
       "      <td>9</td>\n",
       "      <td>7</td>\n",
       "      <td>West of Twin Peaks</td>\n",
       "      <td>(37.73146035984968, -122.44544412061042)</td>\n",
       "      <td>192910130-E26</td>\n",
       "    </tr>\n",
       "    <tr>\n",
       "      <th>18</th>\n",
       "      <td>172813828</td>\n",
       "      <td>T13</td>\n",
       "      <td>17118402</td>\n",
       "      <td>Alarms</td>\n",
       "      <td>10/08/2017</td>\n",
       "      <td>10/08/2017</td>\n",
       "      <td>10/08/2017 09:29:39 PM</td>\n",
       "      <td>10/08/2017 09:31:05 PM</td>\n",
       "      <td>10/08/2017 09:31:12 PM</td>\n",
       "      <td>None</td>\n",
       "      <td>...</td>\n",
       "      <td>False</td>\n",
       "      <td>Alarm</td>\n",
       "      <td>1</td>\n",
       "      <td>TRUCK</td>\n",
       "      <td>3</td>\n",
       "      <td>1</td>\n",
       "      <td>3</td>\n",
       "      <td>Nob Hill</td>\n",
       "      <td>(37.790494992376, -122.408784626776)</td>\n",
       "      <td>172813828-T13</td>\n",
       "    </tr>\n",
       "    <tr>\n",
       "      <th>19</th>\n",
       "      <td>172611187</td>\n",
       "      <td>T05</td>\n",
       "      <td>17109812</td>\n",
       "      <td>Alarms</td>\n",
       "      <td>09/18/2017</td>\n",
       "      <td>09/18/2017</td>\n",
       "      <td>09/18/2017 09:57:35 AM</td>\n",
       "      <td>09/18/2017 09:58:54 AM</td>\n",
       "      <td>09/18/2017 09:59:37 AM</td>\n",
       "      <td>09/18/2017 10:00:33 AM</td>\n",
       "      <td>...</td>\n",
       "      <td>False</td>\n",
       "      <td>Alarm</td>\n",
       "      <td>1</td>\n",
       "      <td>TRUCK</td>\n",
       "      <td>3</td>\n",
       "      <td>4</td>\n",
       "      <td>2</td>\n",
       "      <td>Pacific Heights</td>\n",
       "      <td>(37.794114346677, -122.440017653781)</td>\n",
       "      <td>172611187-T05</td>\n",
       "    </tr>\n",
       "  </tbody>\n",
       "</table>\n",
       "<p>20 rows × 34 columns</p>\n",
       "</div>"
      ],
      "text/plain": [
       "    CallNumber UnitID  IncidentNumber          CallType    CallDate  \\\n",
       "0    192910017    E11        19125164            Alarms  10/18/2019   \n",
       "1    192910018    B10        19125165            Alarms  10/18/2019   \n",
       "2    192910018    T07        19125165            Alarms  10/18/2019   \n",
       "3    192910025    B04        19125166            Alarms  10/18/2019   \n",
       "4    192910034    E01        19125167    Structure Fire  10/18/2019   \n",
       "5    192910034    T01        19125167    Structure Fire  10/18/2019   \n",
       "6    192910039     76        19125168  Medical Incident  10/18/2019   \n",
       "7    192910048    T08        19125169            Alarms  10/18/2019   \n",
       "8    192910057     78        19125170  Medical Incident  10/18/2019   \n",
       "9    192910057    E15        19125170  Medical Incident  10/18/2019   \n",
       "10   192910063   QRV1        19125171  Medical Incident  10/18/2019   \n",
       "11   192910064     72        19125172  Medical Incident  10/18/2019   \n",
       "12   192910064    E19        19125172  Medical Incident  10/18/2019   \n",
       "13   192910070     95        19125173  Medical Incident  10/18/2019   \n",
       "14   192910070    E44        19125173  Medical Incident  10/18/2019   \n",
       "15   192910125     54        19125174  Medical Incident  10/18/2019   \n",
       "16   192910130     75        19125175  Medical Incident  10/18/2019   \n",
       "17   192910130    E26        19125175  Medical Incident  10/18/2019   \n",
       "18   172813828    T13        17118402            Alarms  10/08/2017   \n",
       "19   172611187    T05        17109812            Alarms  09/18/2017   \n",
       "\n",
       "     WatchDate            ReceivedDtTm               EntryDtTm  \\\n",
       "0   10/17/2019  10/18/2019 12:03:52 AM  10/18/2019 12:06:59 AM   \n",
       "1   10/17/2019  10/18/2019 12:05:56 AM  10/18/2019 12:07:27 AM   \n",
       "2   10/17/2019  10/18/2019 12:05:56 AM  10/18/2019 12:07:27 AM   \n",
       "3   10/17/2019  10/18/2019 12:09:02 AM  10/18/2019 12:09:02 AM   \n",
       "4   10/17/2019  10/18/2019 12:12:39 AM  10/18/2019 12:12:39 AM   \n",
       "5   10/17/2019  10/18/2019 12:12:39 AM  10/18/2019 12:12:39 AM   \n",
       "6   10/17/2019  10/18/2019 12:14:32 AM  10/18/2019 12:14:32 AM   \n",
       "7   10/17/2019  10/18/2019 12:20:25 AM  10/18/2019 12:21:44 AM   \n",
       "8   10/17/2019  10/18/2019 12:23:58 AM  10/18/2019 12:26:34 AM   \n",
       "9   10/17/2019  10/18/2019 12:23:58 AM  10/18/2019 12:26:34 AM   \n",
       "10  10/17/2019  10/18/2019 12:28:07 AM  10/18/2019 12:29:02 AM   \n",
       "11  10/17/2019  10/18/2019 12:28:20 AM  10/18/2019 12:29:35 AM   \n",
       "12  10/17/2019  10/18/2019 12:28:20 AM  10/18/2019 12:29:35 AM   \n",
       "13  10/17/2019  10/18/2019 12:32:25 AM  10/18/2019 12:32:25 AM   \n",
       "14  10/17/2019  10/18/2019 12:32:25 AM  10/18/2019 12:32:25 AM   \n",
       "15  10/17/2019  10/18/2019 01:08:27 AM  10/18/2019 01:10:18 AM   \n",
       "16  10/17/2019  10/18/2019 01:11:51 AM  10/18/2019 01:12:53 AM   \n",
       "17  10/17/2019  10/18/2019 01:11:51 AM  10/18/2019 01:12:53 AM   \n",
       "18  10/08/2017  10/08/2017 09:29:39 PM  10/08/2017 09:31:05 PM   \n",
       "19  09/18/2017  09/18/2017 09:57:35 AM  09/18/2017 09:58:54 AM   \n",
       "\n",
       "              DispatchDtTm            ResponseDtTm  ... ALSUnit  \\\n",
       "0   10/18/2019 12:07:05 AM  10/18/2019 12:08:28 AM  ...    True   \n",
       "1   10/18/2019 12:09:49 AM                    None  ...   False   \n",
       "2   10/18/2019 12:09:49 AM                    None  ...   False   \n",
       "3   10/18/2019 12:09:02 AM  10/18/2019 12:09:02 AM  ...   False   \n",
       "4   10/18/2019 12:12:48 AM  10/18/2019 12:13:52 AM  ...    True   \n",
       "5   10/18/2019 12:12:48 AM  10/18/2019 12:14:28 AM  ...   False   \n",
       "6   10/18/2019 12:15:10 AM  10/18/2019 12:15:25 AM  ...    True   \n",
       "7   10/18/2019 12:21:51 AM  10/18/2019 12:24:30 AM  ...   False   \n",
       "8   10/18/2019 12:26:42 AM  10/18/2019 12:27:20 AM  ...    True   \n",
       "9   10/18/2019 12:26:42 AM  10/18/2019 12:29:33 AM  ...    True   \n",
       "10  10/18/2019 12:29:10 AM  10/18/2019 12:29:17 AM  ...    True   \n",
       "11  10/18/2019 12:30:27 AM  10/18/2019 12:30:34 AM  ...    True   \n",
       "12  10/18/2019 12:30:27 AM  10/18/2019 12:31:54 AM  ...    True   \n",
       "13  10/18/2019 12:32:36 AM  10/18/2019 12:33:03 AM  ...    True   \n",
       "14  10/18/2019 12:37:17 AM  10/18/2019 12:40:37 AM  ...    True   \n",
       "15  10/18/2019 01:10:52 AM  10/18/2019 01:11:04 AM  ...    True   \n",
       "16  10/18/2019 01:13:09 AM  10/18/2019 01:13:15 AM  ...    True   \n",
       "17  10/18/2019 01:13:09 AM  10/18/2019 01:15:07 AM  ...    True   \n",
       "18  10/08/2017 09:31:12 PM                    None  ...   False   \n",
       "19  09/18/2017 09:59:37 AM  09/18/2017 10:00:33 AM  ...   False   \n",
       "\n",
       "                   CallTypeGroup NumberOfAlarms UnitType  \\\n",
       "0                          Alarm              1   ENGINE   \n",
       "1                          Alarm              1    CHIEF   \n",
       "2                          Alarm              1    TRUCK   \n",
       "3                          Alarm              1    CHIEF   \n",
       "4                          Alarm              1   ENGINE   \n",
       "5                          Alarm              1    TRUCK   \n",
       "6           Non Life-threatening              1    MEDIC   \n",
       "7                          Alarm              1    TRUCK   \n",
       "8   Potentially Life-Threatening              1    MEDIC   \n",
       "9   Potentially Life-Threatening              1   ENGINE   \n",
       "10  Potentially Life-Threatening              1  SUPPORT   \n",
       "11  Potentially Life-Threatening              1    MEDIC   \n",
       "12  Potentially Life-Threatening              1   ENGINE   \n",
       "13  Potentially Life-Threatening              1    MEDIC   \n",
       "14  Potentially Life-Threatening              1   ENGINE   \n",
       "15          Non Life-threatening              1    MEDIC   \n",
       "16  Potentially Life-Threatening              1    MEDIC   \n",
       "17  Potentially Life-Threatening              1   ENGINE   \n",
       "18                         Alarm              1    TRUCK   \n",
       "19                         Alarm              1    TRUCK   \n",
       "\n",
       "   UnitSequenceInCallDispatch FirePreventionDistrict SupervisorDistrict  \\\n",
       "0                           1                      6                  9   \n",
       "1                           1                      6                  9   \n",
       "2                           3                      6                  9   \n",
       "3                           1                      4                  2   \n",
       "4                           1                      2                  6   \n",
       "5                           2                      2                  6   \n",
       "6                           1                     10                 10   \n",
       "7                           3                      3                  6   \n",
       "8                           2                      9                  7   \n",
       "9                           1                      9                  7   \n",
       "10                          1                      2                  6   \n",
       "11                          2                      8                  7   \n",
       "12                          1                      8                  7   \n",
       "13                          1                     10                  9   \n",
       "14                          2                     10                  9   \n",
       "15                          1                      2                  6   \n",
       "16                          1                      9                  7   \n",
       "17                          2                      9                  7   \n",
       "18                          3                      1                  3   \n",
       "19                          3                      4                  2   \n",
       "\n",
       "    NeighborhooodsDistrict                                   Location  \\\n",
       "0                  Mission   (37.75210364574824, -122.42066480228367)   \n",
       "1                  Mission    (37.75368162954947, -122.4202535645237)   \n",
       "2                  Mission    (37.75368162954947, -122.4202535645237)   \n",
       "3                   Marina   (37.80034056356869, -122.43607739030332)   \n",
       "4          South of Market  (37.779211684542084, -122.41093657380038)   \n",
       "5          South of Market  (37.779211684542084, -122.41093657380038)   \n",
       "6    Bayview Hunters Point   (37.73607882495912, -122.38972310330021)   \n",
       "7              Mission Bay    (37.77663138541027, -122.3921894505535)   \n",
       "8       West of Twin Peaks  (37.736080487699894, -122.44882464734825)   \n",
       "9       West of Twin Peaks  (37.736080487699894, -122.44882464734825)   \n",
       "10              Tenderloin   (37.78186544733037, -122.41428534642068)   \n",
       "11               Lakeshore   (37.72305838266758, -122.48355146198237)   \n",
       "12               Lakeshore   (37.72305838266758, -122.48355146198237)   \n",
       "13                 Portola   (37.72465237940485, -122.40228864968611)   \n",
       "14                 Portola   (37.72465237940485, -122.40228864968611)   \n",
       "15         South of Market  (37.778036510820826, -122.41542910091165)   \n",
       "16      West of Twin Peaks   (37.73146035984968, -122.44544412061042)   \n",
       "17      West of Twin Peaks   (37.73146035984968, -122.44544412061042)   \n",
       "18                Nob Hill       (37.790494992376, -122.408784626776)   \n",
       "19         Pacific Heights       (37.794114346677, -122.440017653781)   \n",
       "\n",
       "             RowID  \n",
       "0    192910017-E11  \n",
       "1    192910018-B10  \n",
       "2    192910018-T07  \n",
       "3    192910025-B04  \n",
       "4    192910034-E01  \n",
       "5    192910034-T01  \n",
       "6     192910039-76  \n",
       "7    192910048-T08  \n",
       "8     192910057-78  \n",
       "9    192910057-E15  \n",
       "10  192910063-QRV1  \n",
       "11    192910064-72  \n",
       "12   192910064-E19  \n",
       "13    192910070-95  \n",
       "14   192910070-E44  \n",
       "15    192910125-54  \n",
       "16    192910130-75  \n",
       "17   192910130-E26  \n",
       "18   172813828-T13  \n",
       "19   172611187-T05  \n",
       "\n",
       "[20 rows x 34 columns]"
      ]
     },
     "execution_count": 9,
     "metadata": {},
     "output_type": "execute_result"
    }
   ],
   "source": [
    "firedep.limit(20).toPandas()"
   ]
  },
  {
   "cell_type": "markdown",
   "metadata": {},
   "source": [
    "## Get table Schema"
   ]
  },
  {
   "cell_type": "code",
   "execution_count": 10,
   "metadata": {},
   "outputs": [
    {
     "name": "stdout",
     "output_type": "stream",
     "text": [
      "root\n",
      " |-- CallNumber: integer (nullable = true)\n",
      " |-- UnitID: string (nullable = true)\n",
      " |-- IncidentNumber: integer (nullable = true)\n",
      " |-- CallType: string (nullable = true)\n",
      " |-- CallDate: string (nullable = true)\n",
      " |-- WatchDate: string (nullable = true)\n",
      " |-- ReceivedDtTm: string (nullable = true)\n",
      " |-- EntryDtTm: string (nullable = true)\n",
      " |-- DispatchDtTm: string (nullable = true)\n",
      " |-- ResponseDtTm: string (nullable = true)\n",
      " |-- OnSceneDtTm: string (nullable = true)\n",
      " |-- TransportDtTm: string (nullable = true)\n",
      " |-- HospitalDtTm: string (nullable = true)\n",
      " |-- CallFinalDisposition: string (nullable = true)\n",
      " |-- AvailableDtTm: string (nullable = true)\n",
      " |-- Address: string (nullable = true)\n",
      " |-- City: string (nullable = true)\n",
      " |-- ZipcodeOfIncident: integer (nullable = true)\n",
      " |-- Battalion: string (nullable = true)\n",
      " |-- StationArea: string (nullable = true)\n",
      " |-- Box: string (nullable = true)\n",
      " |-- OriginalPriority: string (nullable = true)\n",
      " |-- Priority: string (nullable = true)\n",
      " |-- FinalPriority: integer (nullable = true)\n",
      " |-- ALSUnit: boolean (nullable = true)\n",
      " |-- CallTypeGroup: string (nullable = true)\n",
      " |-- NumberOfAlarms: integer (nullable = true)\n",
      " |-- UnitType: string (nullable = true)\n",
      " |-- UnitSequenceInCallDispatch: integer (nullable = true)\n",
      " |-- FirePreventionDistrict: string (nullable = true)\n",
      " |-- SupervisorDistrict: string (nullable = true)\n",
      " |-- NeighborhooodsDistrict: string (nullable = true)\n",
      " |-- Location: string (nullable = true)\n",
      " |-- RowID: string (nullable = true)\n",
      "\n"
     ]
    }
   ],
   "source": [
    "firedep.printSchema()"
   ]
  },
  {
   "cell_type": "markdown",
   "metadata": {},
   "source": [
    "## Describe DataFrame"
   ]
  },
  {
   "cell_type": "code",
   "execution_count": 11,
   "metadata": {},
   "outputs": [
    {
     "name": "stdout",
     "output_type": "stream",
     "text": [
      "+-------+--------------------+-------------------+\n",
      "|summary|          CallNumber|     NumberOfAlarms|\n",
      "+-------+--------------------+-------------------+\n",
      "|  count|             5144933|            5144933|\n",
      "|   mean|1.0452980439042258E8| 1.0054086224252095|\n",
      "| stddev| 5.694029816593383E7|0.09963311637299194|\n",
      "|    min|             1030101|                  1|\n",
      "|    max|           193414308|                  5|\n",
      "+-------+--------------------+-------------------+\n",
      "\n"
     ]
    }
   ],
   "source": [
    "firedep.select('CallNumber', 'NumberOfAlarms').describe().show()"
   ]
  },
  {
   "cell_type": "code",
   "execution_count": 12,
   "metadata": {},
   "outputs": [],
   "source": [
    "#%%time\n",
    "#firedep.describe()"
   ]
  },
  {
   "cell_type": "markdown",
   "metadata": {},
   "source": [
    "### Filter DataFrame to get Column or DataFrame object"
   ]
  },
  {
   "cell_type": "markdown",
   "metadata": {},
   "source": [
    "#### Column Object"
   ]
  },
  {
   "cell_type": "code",
   "execution_count": 13,
   "metadata": {},
   "outputs": [
    {
     "data": {
      "text/plain": [
       "pyspark.sql.column.Column"
      ]
     },
     "execution_count": 13,
     "metadata": {},
     "output_type": "execute_result"
    }
   ],
   "source": [
    "type(firedep['CallNumber'])"
   ]
  },
  {
   "cell_type": "markdown",
   "metadata": {},
   "source": [
    "#### DataFrame Object"
   ]
  },
  {
   "cell_type": "code",
   "execution_count": 14,
   "metadata": {},
   "outputs": [
    {
     "data": {
      "text/plain": [
       "pyspark.sql.dataframe.DataFrame"
      ]
     },
     "execution_count": 14,
     "metadata": {},
     "output_type": "execute_result"
    }
   ],
   "source": [
    "type(firedep.select('CallNumber'))"
   ]
  },
  {
   "cell_type": "markdown",
   "metadata": {},
   "source": [
    "#### Get Multiple Columns"
   ]
  },
  {
   "cell_type": "code",
   "execution_count": 15,
   "metadata": {},
   "outputs": [
    {
     "data": {
      "text/plain": [
       "DataFrame[CallNumber: int, NumberOfAlarms: int]"
      ]
     },
     "execution_count": 15,
     "metadata": {},
     "output_type": "execute_result"
    }
   ],
   "source": [
    "firedep['CallNumber', 'NumberOfAlarms']"
   ]
  },
  {
   "cell_type": "markdown",
   "metadata": {},
   "source": [
    "## Get DF Rows"
   ]
  },
  {
   "cell_type": "code",
   "execution_count": 16,
   "metadata": {},
   "outputs": [
    {
     "data": {
      "text/plain": [
       "Row(CallNumber=192910017, NumberOfAlarms=1)"
      ]
     },
     "execution_count": 16,
     "metadata": {},
     "output_type": "execute_result"
    }
   ],
   "source": [
    "firedep['CallNumber', 'NumberOfAlarms'].head(5)[0]"
   ]
  },
  {
   "cell_type": "markdown",
   "metadata": {},
   "source": [
    "## Drop NA Values"
   ]
  },
  {
   "cell_type": "code",
   "execution_count": 17,
   "metadata": {},
   "outputs": [],
   "source": [
    "null_df = spark.read.csv('NullData.csv', header=True)"
   ]
  },
  {
   "cell_type": "code",
   "execution_count": 18,
   "metadata": {},
   "outputs": [
    {
     "name": "stdout",
     "output_type": "stream",
     "text": [
      "+----+-----+-----+------+\n",
      "|Acct|month|Debit|Credit|\n",
      "+----+-----+-----+------+\n",
      "|   A|    1|  100|   200|\n",
      "|   A|    2|  200|   200|\n",
      "|   A|    3|  300|    10|\n",
      "|   B|    1|   10|   200|\n",
      "|   C|    1| 1000|   100|\n",
      "+----+-----+-----+------+\n",
      "\n"
     ]
    }
   ],
   "source": [
    "null_df.na.drop().show()"
   ]
  },
  {
   "cell_type": "markdown",
   "metadata": {},
   "source": [
    "### Drop NA with threshold"
   ]
  },
  {
   "cell_type": "code",
   "execution_count": 19,
   "metadata": {},
   "outputs": [
    {
     "name": "stdout",
     "output_type": "stream",
     "text": [
      "+----+-----+-----+------+\n",
      "|Acct|month|Debit|Credit|\n",
      "+----+-----+-----+------+\n",
      "|   A|    1|  100|   200|\n",
      "|   A|    2|  200|   200|\n",
      "|   A|    3|  300|    10|\n",
      "|   B|    1|   10|   200|\n",
      "|   B|    3|   20|  null|\n",
      "|   C|    1| 1000|   100|\n",
      "|   C|    2|   10|  null|\n",
      "|   C|    3| null|  null|\n",
      "+----+-----+-----+------+\n",
      "\n"
     ]
    }
   ],
   "source": [
    "# Each row must contain atleast 2 non null values to be not dropped\n",
    "null_df.na.drop(thresh =2).show()"
   ]
  },
  {
   "cell_type": "code",
   "execution_count": 20,
   "metadata": {},
   "outputs": [
    {
     "name": "stdout",
     "output_type": "stream",
     "text": [
      "+----+-----+-----+------+\n",
      "|Acct|month|Debit|Credit|\n",
      "+----+-----+-----+------+\n",
      "|   A|    1|  100|   200|\n",
      "|   A|    2|  200|   200|\n",
      "|   A|    3|  300|    10|\n",
      "|   B|    1|   10|   200|\n",
      "|   B|    3|   20|  null|\n",
      "|   C|    1| 1000|   100|\n",
      "|   C|    2|   10|  null|\n",
      "+----+-----+-----+------+\n",
      "\n"
     ]
    }
   ],
   "source": [
    "# define subset to drop\n",
    "null_df.na.drop(subset = ['Debit']).show()"
   ]
  },
  {
   "cell_type": "code",
   "execution_count": 21,
   "metadata": {},
   "outputs": [],
   "source": [
    "converted_null_df = null_df.withColumn('Debit', null_df['Debit'].cast(IntegerType()))"
   ]
  },
  {
   "cell_type": "code",
   "execution_count": 22,
   "metadata": {},
   "outputs": [],
   "source": [
    "converted_null_df = converted_null_df.withColumn('Credit', converted_null_df['Credit'].cast(IntegerType()))"
   ]
  },
  {
   "cell_type": "markdown",
   "metadata": {},
   "source": [
    "## Pivot Data"
   ]
  },
  {
   "cell_type": "code",
   "execution_count": 23,
   "metadata": {},
   "outputs": [],
   "source": [
    "pvt_df = converted_null_df.groupby('Acct').pivot('Month').sum('Debit')"
   ]
  },
  {
   "cell_type": "code",
   "execution_count": 24,
   "metadata": {},
   "outputs": [
    {
     "name": "stdout",
     "output_type": "stream",
     "text": [
      "+----+----+----+----+\n",
      "|Acct|   1|   2|   3|\n",
      "+----+----+----+----+\n",
      "|   B|  10|null|  20|\n",
      "|   C|1000|  10|null|\n",
      "|   A| 100| 200| 300|\n",
      "+----+----+----+----+\n",
      "\n"
     ]
    }
   ],
   "source": [
    "pvt_df.show()"
   ]
  },
  {
   "cell_type": "code",
   "execution_count": 25,
   "metadata": {},
   "outputs": [],
   "source": [
    "pivoted_data = converted_null_df.groupby('Acct').pivot('Month').sum('Debit', 'Credit')"
   ]
  },
  {
   "cell_type": "code",
   "execution_count": 35,
   "metadata": {},
   "outputs": [
    {
     "name": "stdout",
     "output_type": "stream",
     "text": [
      "root\n",
      " |-- Acct: string (nullable = true)\n",
      " |-- 1_sum(CAST(Debit AS BIGINT)): long (nullable = true)\n",
      " |-- 1_sum(CAST(Credit AS BIGINT)): long (nullable = true)\n",
      " |-- 2_sum(CAST(Debit AS BIGINT)): long (nullable = true)\n",
      " |-- 2_sum(CAST(Credit AS BIGINT)): long (nullable = true)\n",
      " |-- 3_sum(CAST(Debit AS BIGINT)): long (nullable = true)\n",
      " |-- 3_sum(CAST(Credit AS BIGINT)): long (nullable = true)\n",
      "\n"
     ]
    }
   ],
   "source": [
    "pivoted_data.printSchema()"
   ]
  },
  {
   "cell_type": "markdown",
   "metadata": {},
   "source": [
    "## Column Renaming"
   ]
  },
  {
   "cell_type": "code",
   "execution_count": 27,
   "metadata": {},
   "outputs": [],
   "source": [
    "##Renaming columns in above df\n",
    "#https://sparkbyexamples.com/spark/rename-a-column-on-spark-dataframes/\n",
    "renamed_conv_null_df = pivoted_data.withColumnRenamed('1_sum(CAST(Debit AS BIGINT))', 'M1D') \\\n",
    "                      .withColumnRenamed('1_sum(CAST(Credit AS BIGINT))', 'M1C') \\\n",
    "                      .withColumnRenamed('2_sum(CAST(Debit AS BIGINT))', 'M2D') \\\n",
    "                      .withColumnRenamed('2_sum(CAST(Credit AS BIGINT))', 'M2C') \\\n",
    "                      .withColumnRenamed('3_sum(CAST(Debit AS BIGINT))', 'M3D') \\\n",
    "                      .withColumnRenamed('3_sum(CAST(Credit AS BIGINT))', 'M3C') "
   ]
  },
  {
   "cell_type": "code",
   "execution_count": 28,
   "metadata": {},
   "outputs": [
    {
     "name": "stdout",
     "output_type": "stream",
     "text": [
      "+----+----+---+----+----+----+----+\n",
      "|Acct| M1D|M1C| M2D| M2C| M3D| M3C|\n",
      "+----+----+---+----+----+----+----+\n",
      "|   B|  10|200|null|null|  20|null|\n",
      "|   C|1000|100|  10|null|null|null|\n",
      "|   A| 100|200| 200| 200| 300|  10|\n",
      "+----+----+---+----+----+----+----+\n",
      "\n"
     ]
    }
   ],
   "source": [
    "renamed_conv_null_df.show()"
   ]
  },
  {
   "cell_type": "markdown",
   "metadata": {},
   "source": [
    "## Create new column and fillna"
   ]
  },
  {
   "cell_type": "code",
   "execution_count": 29,
   "metadata": {},
   "outputs": [],
   "source": [
    "renamed_conv_null_df = renamed_conv_null_df.fillna(0, subset=['M2C']) \\\n",
    "                       .fillna(1, subset=['M3C']) \\\n",
    "                       .withColumn('Ratio', col('M2C') / col('M3C'))"
   ]
  },
  {
   "cell_type": "code",
   "execution_count": 30,
   "metadata": {},
   "outputs": [
    {
     "name": "stdout",
     "output_type": "stream",
     "text": [
      "+----+----+---+----+---+----+---+-----+\n",
      "|Acct| M1D|M1C| M2D|M2C| M3D|M3C|Ratio|\n",
      "+----+----+---+----+---+----+---+-----+\n",
      "|   B|  10|200|null|  0|  20|  1|  0.0|\n",
      "|   C|1000|100|  10|  0|null|  1|  0.0|\n",
      "|   A| 100|200| 200|200| 300| 10| 20.0|\n",
      "+----+----+---+----+---+----+---+-----+\n",
      "\n"
     ]
    }
   ],
   "source": [
    "renamed_conv_null_df.show()"
   ]
  },
  {
   "cell_type": "markdown",
   "metadata": {},
   "source": [
    "## Create new column and how to fillna (not inplace)"
   ]
  },
  {
   "cell_type": "code",
   "execution_count": 31,
   "metadata": {},
   "outputs": [],
   "source": [
    "renamed_conv_null_df = renamed_conv_null_df.withColumn('Ratio', coalesce(col('M2D'),\n",
    "                                                                         lit(0)) / coalesce(col('M3D'), lit(1)))"
   ]
  },
  {
   "cell_type": "code",
   "execution_count": 32,
   "metadata": {},
   "outputs": [
    {
     "name": "stdout",
     "output_type": "stream",
     "text": [
      "+----+----+---+----+---+----+---+------------------+\n",
      "|Acct| M1D|M1C| M2D|M2C| M3D|M3C|             Ratio|\n",
      "+----+----+---+----+---+----+---+------------------+\n",
      "|   B|  10|200|null|  0|  20|  1|               0.0|\n",
      "|   C|1000|100|  10|  0|null|  1|              10.0|\n",
      "|   A| 100|200| 200|200| 300| 10|0.6666666666666666|\n",
      "+----+----+---+----+---+----+---+------------------+\n",
      "\n"
     ]
    }
   ],
   "source": [
    "renamed_conv_null_df.show()"
   ]
  }
 ],
 "metadata": {
  "kernelspec": {
   "display_name": "Python 3",
   "language": "python",
   "name": "python3"
  },
  "language_info": {
   "codemirror_mode": {
    "name": "ipython",
    "version": 3
   },
   "file_extension": ".py",
   "mimetype": "text/x-python",
   "name": "python",
   "nbconvert_exporter": "python",
   "pygments_lexer": "ipython3",
   "version": "3.7.5"
  }
 },
 "nbformat": 4,
 "nbformat_minor": 2
}
